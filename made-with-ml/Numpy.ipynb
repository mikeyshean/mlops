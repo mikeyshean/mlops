{
 "cells": [
  {
   "cell_type": "code",
   "execution_count": 1,
   "id": "2b70d1f6",
   "metadata": {},
   "outputs": [],
   "source": [
    "import numpy as np"
   ]
  },
  {
   "cell_type": "code",
   "execution_count": 3,
   "id": "e9f8c434",
   "metadata": {},
   "outputs": [],
   "source": [
    "# Set seed for repoducibility\n",
    "np.random.seed(seed=1234)"
   ]
  },
  {
   "cell_type": "markdown",
   "id": "8510911d",
   "metadata": {},
   "source": [
    "## Basics"
   ]
  },
  {
   "cell_type": "markdown",
   "id": "b75f521f",
   "metadata": {},
   "source": [
    "### Scalar (0D tensor)\n",
    "a single value"
   ]
  },
  {
   "cell_type": "code",
   "execution_count": 10,
   "id": "7bf8e514",
   "metadata": {},
   "outputs": [
    {
     "name": "stdout",
     "output_type": "stream",
     "text": [
      "x:  7\n",
      "x ndim:  0\n",
      "x shape:  ()\n",
      "x size:  1\n",
      "x dtype:  int64\n"
     ]
    }
   ],
   "source": [
    "# Scalar\n",
    "x = np.array(7)\n",
    "print(\"x: \", x)\n",
    "print(\"x ndim: \", x.ndim) # number of dimensions\n",
    "print(\"x shape: \", x.shape) # dimensions\n",
    "print(\"x size: \", x.size) # size of elements\n",
    "print(\"x dtype: \", x.dtype) # data type"
   ]
  },
  {
   "cell_type": "code",
   "execution_count": null,
   "id": "7530cbe0",
   "metadata": {},
   "outputs": [],
   "source": []
  }
 ],
 "metadata": {
  "kernelspec": {
   "display_name": "Python 3 (ipykernel)",
   "language": "python",
   "name": "python3"
  },
  "language_info": {
   "codemirror_mode": {
    "name": "ipython",
    "version": 3
   },
   "file_extension": ".py",
   "mimetype": "text/x-python",
   "name": "python",
   "nbconvert_exporter": "python",
   "pygments_lexer": "ipython3",
   "version": "3.9.12"
  }
 },
 "nbformat": 4,
 "nbformat_minor": 5
}
